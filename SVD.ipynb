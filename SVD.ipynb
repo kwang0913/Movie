{
 "cells": [
  {
   "cell_type": "markdown",
   "metadata": {},
   "source": [
    "# Access R to Get Dataset"
   ]
  },
  {
   "cell_type": "code",
   "execution_count": 1,
   "metadata": {},
   "outputs": [],
   "source": [
    "from rpy2.robjects import r\n",
    "from rpy2.robjects.packages import importr, data"
   ]
  },
  {
   "cell_type": "code",
   "execution_count": 2,
   "metadata": {},
   "outputs": [],
   "source": [
    "reco = importr(\"recommenderlab\")\n",
    "movie = data(reco).fetch('MovieLense')['MovieLense']\n",
    "temp = r('as')(movie, 'matrix')"
   ]
  },
  {
   "cell_type": "markdown",
   "metadata": {},
   "source": [
    "# Load Library"
   ]
  },
  {
   "cell_type": "code",
   "execution_count": 3,
   "metadata": {},
   "outputs": [],
   "source": [
    "import numpy as np\n",
    "import cvxpy as cp\n",
    "M = np.array(temp)"
   ]
  },
  {
   "cell_type": "code",
   "execution_count": 4,
   "metadata": {},
   "outputs": [],
   "source": [
    "m = M.shape[0]\n",
    "n = M.shape[1]"
   ]
  },
  {
   "cell_type": "code",
   "execution_count": null,
   "metadata": {},
   "outputs": [
    {
     "name": "stderr",
     "output_type": "stream",
     "text": [
      "C:\\Users\\Owner\\scoop\\apps\\anaconda3\\5.3.1\\lib\\site-packages\\cvxpy\\problems\\problem.py:614: RuntimeWarning: overflow encountered in long_scalars\n",
      "  if self.max_big_small_squared < big*small**2:\n",
      "C:\\Users\\Owner\\scoop\\apps\\anaconda3\\5.3.1\\lib\\site-packages\\cvxpy\\problems\\problem.py:615: RuntimeWarning: overflow encountered in long_scalars\n",
      "  self.max_big_small_squared = big*small**2\n",
      "C:\\Users\\Owner\\scoop\\apps\\anaconda3\\5.3.1\\lib\\site-packages\\cvxpy\\problems\\problem.py:606: RuntimeWarning: overflow encountered in long_scalars\n",
      "  self.num_scalar_data += const.size\n"
     ]
    }
   ],
   "source": [
    "X = cp.Variable((m,n))\n",
    "w1 = cp.Variable((m,m), PSD=True)\n",
    "w2 = cp.Variable((n,n), PSD=True)\n",
    "c = cp.bmat([[w1,X],\n",
    "              [X.T,w2]])\n",
    "constraints = [M[~np.isnan(M)] == X[~np.isnan(M)], c >> 0]\n",
    "objective = cp.Minimize(cp.trace(w1) + cp.trace(w2))\n",
    "prob = cp.Problem(objective, constraints)\n",
    "prob.solve()"
   ]
  },
  {
   "cell_type": "code",
   "execution_count": null,
   "metadata": {},
   "outputs": [],
   "source": [
    "X.value"
   ]
  }
 ],
 "metadata": {
  "kernelspec": {
   "display_name": "Python 3",
   "language": "python",
   "name": "python3"
  },
  "language_info": {
   "codemirror_mode": {
    "name": "ipython",
    "version": 3
   },
   "file_extension": ".py",
   "mimetype": "text/x-python",
   "name": "python",
   "nbconvert_exporter": "python",
   "pygments_lexer": "ipython3",
   "version": "3.6.7"
  }
 },
 "nbformat": 4,
 "nbformat_minor": 2
}
