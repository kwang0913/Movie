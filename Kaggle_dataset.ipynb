{
 "cells": [
  {
   "cell_type": "markdown",
   "metadata": {},
   "source": [
    "# Using Kaggle API"
   ]
  },
  {
   "cell_type": "markdown",
   "metadata": {},
   "source": [
    "Read how to use kaggle api: https://github.com/Kaggle/kaggle-api  \n",
    "You need to have kaggle.json file  \n",
    "You may need to upgrade pip and other python packages"
   ]
  },
  {
   "cell_type": "markdown",
   "metadata": {},
   "source": [
    "!pip install kaggle  \n",
    "!kaggle datasets download -d rounakbanik/the-movies-dataset  \n",
    "!kaggle datasets download -d tmdb/tmdb-movie-metadata  \n",
    "!kaggle datasets download -d carolzhangdc/imdb-5000-movie-dataset  "
   ]
  },
  {
   "cell_type": "markdown",
   "metadata": {},
   "source": [
    "# Unzip files"
   ]
  },
  {
   "cell_type": "markdown",
   "metadata": {},
   "source": [
    "from zipfile import ZipFile  \n",
    "ZipFile('imdb-5000-movie-dataset.zip').extractall()  \n",
    "ZipFile('tmdb-movie-metadata.zip').extractall()  \n",
    "ZipFile('the-movies-dataset.zip').extractall()  "
   ]
  },
  {
   "cell_type": "markdown",
   "metadata": {},
   "source": [
    "# Load Packages"
   ]
  },
  {
   "cell_type": "code",
   "execution_count": 1,
   "metadata": {},
   "outputs": [],
   "source": [
    "%matplotlib inline\n",
    "\n",
    "import re\n",
    "import json\n",
    "import numpy as np\n",
    "import pandas as pd\n",
    "import seaborn as sns\n",
    "import matplotlib.pyplot as plt\n",
    "\n",
    "from ast import literal_eval\n",
    "from unicodedata import normalize\n",
    "from dateutil.parser import parse"
   ]
  },
  {
   "cell_type": "markdown",
   "metadata": {},
   "source": [
    "# Load and Clean Datasets"
   ]
  },
  {
   "cell_type": "markdown",
   "metadata": {},
   "source": [
    "* TMDB"
   ]
  },
  {
   "cell_type": "code",
   "execution_count": 2,
   "metadata": {},
   "outputs": [],
   "source": [
    "tmdf1 = pd.read_csv('tmdb_5000_credits.csv')\n",
    "tmdf2 = pd.read_csv('tmdb_5000_movies.csv')\\\n",
    ".drop(['budget', 'homepage', 'original_title', 'overview', 'status', 'tagline',\\\n",
    "       'revenue', 'popularity'], axis = 1)\n",
    "tmdf1.columns = ['id','title','cast','crew']\n",
    "tmdf1['cast'] = tmdf1['cast'].apply(json.loads)\\\n",
    ".apply(lambda x: [value for i in x for key, value in i.items() if key == 'name'])\n",
    "tmdf1['crew'] = tmdf1['crew'].apply(json.loads)\\\n",
    ".apply(lambda x: [value for i in x for key, value in i.items() if key == 'name'])\n",
    "tmdf2['keywords'] = tmdf2['keywords'].apply(json.loads)\\\n",
    ".apply(lambda x: [value for i in x for key, value in i.items() if key == 'name'])\n",
    "tmdf2['production_companies'] = tmdf2['production_companies'].apply(json.loads)\\\n",
    ".apply(lambda x: [value for i in x for key, value in i.items() if key == 'name'])\n",
    "tmdf2['production_countries'] = tmdf2['production_countries'].apply(json.loads)\\\n",
    ".apply(lambda x: [value for i in x for key, value in i.items() if key == 'name'])\n",
    "tmdf2['spoken_languages'] = tmdf2['spoken_languages'].apply(json.loads)\\\n",
    ".apply(lambda x: [value for i in x for key, value in i.items() if key == 'name'])\n",
    "tmdf2['genres'] = tmdf2['genres'].apply(json.loads)\\\n",
    ".apply(lambda x: [value for i in x for key, value in i.items() if key == 'name'])\\\n",
    ".apply(lambda x: [i.replace('Science Fiction','Sci-Fi') for i in x])\\\n",
    "#.apply(lambda x: '|'.join(x))\n",
    "\n",
    "df = tmdf1.merge(tmdf2,on = ['id', 'title'])\n",
    "df['title'] = df['title'].apply(lambda x: x.lower())"
   ]
  },
  {
   "cell_type": "markdown",
   "metadata": {},
   "source": [
    "* IMDB"
   ]
  },
  {
   "cell_type": "code",
   "execution_count": 3,
   "metadata": {},
   "outputs": [],
   "source": [
    "imdf = pd.read_csv('movie_metadata.csv').rename(columns={'movie_title' : 'title'})\\\n",
    ".drop_duplicates(subset=['title', 'duration', 'color'])\\\n",
    ".drop(['budget', 'gross', 'facenumber_in_poster', 'movie_imdb_link'], axis=1)\n",
    "imdf = imdf.drop(imdf.columns[imdf.columns.str.contains('likes|reviews')].values.tolist(), axis = 1)\n",
    "imdf['title'] = imdf['title'].apply(lambda x: normalize('NFKD', x))\\\n",
    ".apply(lambda x: x[:-1]).apply(lambda x: x.lower())\n",
    "imdf['genres'] = imdf['genres'].apply(lambda x: x.split(sep = '|'))\n",
    "imdf['plot_keywords'] = imdf['plot_keywords'].fillna(' ')\\\n",
    ".apply(lambda x: x.split(sep = '|'))"
   ]
  },
  {
   "cell_type": "markdown",
   "metadata": {},
   "source": [
    "* merge"
   ]
  },
  {
   "cell_type": "code",
   "execution_count": 4,
   "metadata": {},
   "outputs": [],
   "source": [
    "df = df.merge(imdf, on = ['title'], how = 'inner').drop_duplicates(['title'], keep = False)\n",
    "df['genres'] = (df.genres_x+df.genres_y).fillna(' ').apply(lambda x: list(set(x)))\n",
    "df.cast = (df.cast + df.actor_1_name.apply(lambda x: [x])\\\n",
    "+ df.actor_2_name.apply(lambda x: [x]) + df.actor_3_name.apply(lambda x: [x]))\\\n",
    ".fillna(' ').apply(lambda x: list(set(x)))\n",
    "df.keywords = (df.keywords + df.plot_keywords).fillna(' ').apply(lambda x: list(set(x)))\n",
    "df.language = (df.language.apply(lambda x: [x]) + df.original_language.apply(lambda x: [x])\\\n",
    "               + df.spoken_languages).fillna(' ').apply(lambda x: list(set(x)))\n",
    "df.crew = (df.crew + df.director_name.apply(lambda x: [x])).fillna(' ').apply(lambda x: list(set(x)))\n",
    "df.title_year = df.title_year.combine(df.release_date.fillna('1880').apply(lambda x: parse(x).year), lambda x,y: x if x >= y else y)\n",
    "df.runtime = df.runtime.fillna(0).combine(df.duration.fillna(0), lambda x,y: x if x >= y else y)\n",
    "df.drop(['genres_x', 'genres_y', 'actor_1_name', 'actor_2_name', 'actor_3_name', 'plot_keywords',\\\n",
    "         'original_language', 'spoken_languages', 'director_name', 'release_date', 'duration'], axis=1, inplace=True)\n",
    "\n",
    "df.runtime = df.runtime.replace(0, np.nan)\n",
    "df[['title_year']] = df[['title_year']].applymap(int)"
   ]
  }
 ],
 "metadata": {
  "kernelspec": {
   "display_name": "Python 3",
   "language": "python",
   "name": "python3"
  },
  "language_info": {
   "codemirror_mode": {
    "name": "ipython",
    "version": 3
   },
   "file_extension": ".py",
   "mimetype": "text/x-python",
   "name": "python",
   "nbconvert_exporter": "python",
   "pygments_lexer": "ipython3",
   "version": "3.6.7"
  },
  "toc": {
   "base_numbering": 1,
   "nav_menu": {},
   "number_sections": true,
   "sideBar": true,
   "skip_h1_title": false,
   "title_cell": "Table of Contents",
   "title_sidebar": "Contents",
   "toc_cell": false,
   "toc_position": {},
   "toc_section_display": true,
   "toc_window_display": false
  },
  "varInspector": {
   "cols": {
    "lenName": 16,
    "lenType": 16,
    "lenVar": 40
   },
   "kernels_config": {
    "python": {
     "delete_cmd_postfix": "",
     "delete_cmd_prefix": "del ",
     "library": "var_list.py",
     "varRefreshCmd": "print(var_dic_list())"
    },
    "r": {
     "delete_cmd_postfix": ") ",
     "delete_cmd_prefix": "rm(",
     "library": "var_list.r",
     "varRefreshCmd": "cat(var_dic_list()) "
    }
   },
   "types_to_exclude": [
    "module",
    "function",
    "builtin_function_or_method",
    "instance",
    "_Feature"
   ],
   "window_display": false
  }
 },
 "nbformat": 4,
 "nbformat_minor": 2
}
