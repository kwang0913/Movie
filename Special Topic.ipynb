{
 "cells": [
  {
   "cell_type": "markdown",
   "metadata": {},
   "source": [
    "# Load Packages"
   ]
  },
  {
   "cell_type": "code",
   "execution_count": 1,
   "metadata": {},
   "outputs": [],
   "source": [
    "%matplotlib inline\n",
    "\n",
    "import re\n",
    "import json\n",
    "import numpy as np\n",
    "import pandas as pd\n",
    "import matplotlib.pyplot as plt\n",
    "import seaborn as sns\n",
    "\n",
    "from ast import literal_eval\n",
    "from unicodedata import normalize\n",
    "from dateutil.parser import parse"
   ]
  },
  {
   "cell_type": "markdown",
   "metadata": {},
   "source": [
    "# Import Dataset"
   ]
  },
  {
   "cell_type": "code",
   "execution_count": 28,
   "metadata": {},
   "outputs": [],
   "source": [
    "credits = pd.read_csv('credits.csv')\n",
    "keywords = pd.read_csv('keywords.csv')\n",
    "mdf = pd.read_csv('movies_metadata.csv', low_memory=False)"
   ]
  },
  {
   "cell_type": "code",
   "execution_count": 29,
   "metadata": {},
   "outputs": [],
   "source": [
    "credits['cast'] = credits['cast'].apply(literal_eval).apply(lambda x: [value for i in x for key, value in i.items() if key == 'name'])\n",
    "credits['crew'] = credits['crew'].apply(literal_eval).apply(lambda x: [value for i in x for key, value in i.items() if key == 'name'])\n",
    "keywords['keywords'] = keywords['keywords'].apply(literal_eval).apply(lambda x: [value for i in x for key, value in i.items() if key == 'name'])\n",
    "\n",
    "r = re.compile('\\d{4}[-]\\d{2}[-]\\d{2}')\n",
    "r = list(filter(r.match, mdf.id.tolist()))\n",
    "mdf = mdf.drop(mdf[mdf.id.apply(lambda x: x in r)].index)\n",
    "mdf.id = mdf.id.apply(int)\n",
    "\n",
    "df = credits.merge(keywords, how='inner').merge(mdf, how = 'inner')\\\n",
    "[['id', 'title', 'cast', 'crew', 'genres', 'keywords', 'production_companies', 'production_countries',\\\n",
    "  'release_date', 'runtime', 'spoken_languages', 'vote_average', 'vote_count']]\\\n",
    ".dropna(subset=['production_companies', 'production_countries', 'spoken_languages'])\n",
    "\n",
    "df['genres'] = df['genres'].apply(literal_eval).apply(lambda x: [value for i in x for key, value in i.items() if key == 'name'])\\\n",
    "#.apply(lambda x: [i.replace('Science Fiction','Sci-Fi') for i in x])\\\n",
    "df['production_companies'] = df['production_companies'].apply(literal_eval).apply(lambda x: [value for i in x for key, value in i.items() if key == 'name'])\n",
    "df['production_countries'] = df['production_countries'].apply(literal_eval).apply(lambda x: [value for i in x for key, value in i.items() if key == 'name'])\n",
    "df['spoken_languages'] = df['spoken_languages'].apply(literal_eval).apply(lambda x: [value for i in x for key, value in i.items() if key == 'name'])"
   ]
  }
 ],
 "metadata": {
  "kernelspec": {
   "display_name": "Python 3",
   "language": "python",
   "name": "python3"
  },
  "language_info": {
   "codemirror_mode": {
    "name": "ipython",
    "version": 3
   },
   "file_extension": ".py",
   "mimetype": "text/x-python",
   "name": "python",
   "nbconvert_exporter": "python",
   "pygments_lexer": "ipython3",
   "version": "3.7.0"
  }
 },
 "nbformat": 4,
 "nbformat_minor": 2
}
